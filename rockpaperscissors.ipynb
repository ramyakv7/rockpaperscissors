{
 "cells": [
  {
   "cell_type": "code",
   "execution_count": null,
   "id": "5f3c900b",
   "metadata": {},
   "outputs": [
    {
     "name": "stdout",
     "output_type": "stream",
     "text": [
      "Please pick one:\n",
      "            rock=R\n",
      "            scissors=S\n",
      "            paper=P\n",
      "Player A: R\n",
      "Player B: P\n",
      "Player A won\n",
      " score: Player A - 1  Player B - 0\n",
      "Play another Round (y / n) : y\n",
      "Player A: R\n",
      "Player B: P\n",
      "Player A won\n",
      " score: Player A - 2  Player B - 0\n",
      "Play another Round (y / n) : n\n",
      "player A is the winner\n"
     ]
    }
   ],
   "source": [
    "score = [0,0]\n",
    "print('''Please pick one:\n",
    "            rock=R\n",
    "            scissors=S\n",
    "            paper=P''')\n",
    "\n",
    "while True:\n",
    "    game_dict = {'R': 1, 'S': 2, 'P': 3}\n",
    "    player_a = str(input(\"Player A: \"))\n",
    "    player_b = str(input(\"Player B: \"))\n",
    "    a = game_dict.get(player_a)\n",
    "    b = game_dict.get(player_b)\n",
    "    if a == b:\n",
    "        print('tie')\n",
    "        score[0] += 1\n",
    "        score[1] += 1\n",
    "    elif (a - 1) % 3 == b % 3:\n",
    "        print('Player A won')\n",
    "        score[0] += 1\n",
    "    else :\n",
    "        print('Player B won')\n",
    "        score[1] += 1\n",
    "    print(\" score: Player A -\",score[0],\" Player B -\",score[1])\n",
    "    \n",
    "    answer = input(\"Play another Round (y / n) : \")\n",
    "    if answer.lower() != \"y\":\n",
    "       # break\n",
    "        if score[0] > score[1]:\n",
    "         print ('player A is the winner')\n",
    "    elif score[1] > score[0]:\n",
    "         print('player B is the winner')\n",
    "         break\n",
    "        \n",
    "       "
   ]
  },
  {
   "cell_type": "code",
   "execution_count": null,
   "id": "8e516b40",
   "metadata": {},
   "outputs": [],
   "source": []
  },
  {
   "cell_type": "code",
   "execution_count": null,
   "id": "c29e7838",
   "metadata": {},
   "outputs": [],
   "source": []
  },
  {
   "cell_type": "code",
   "execution_count": null,
   "id": "3d47eaa1",
   "metadata": {},
   "outputs": [],
   "source": []
  },
  {
   "cell_type": "code",
   "execution_count": null,
   "id": "a901f0fd",
   "metadata": {},
   "outputs": [],
   "source": []
  },
  {
   "cell_type": "code",
   "execution_count": null,
   "id": "5ead5750",
   "metadata": {},
   "outputs": [],
   "source": []
  },
  {
   "cell_type": "code",
   "execution_count": null,
   "id": "be91591d",
   "metadata": {},
   "outputs": [],
   "source": []
  }
 ],
 "metadata": {
  "kernelspec": {
   "display_name": "Python 3",
   "language": "python",
   "name": "python3"
  },
  "language_info": {
   "codemirror_mode": {
    "name": "ipython",
    "version": 3
   },
   "file_extension": ".py",
   "mimetype": "text/x-python",
   "name": "python",
   "nbconvert_exporter": "python",
   "pygments_lexer": "ipython3",
   "version": "3.8.8"
  }
 },
 "nbformat": 4,
 "nbformat_minor": 5
}
